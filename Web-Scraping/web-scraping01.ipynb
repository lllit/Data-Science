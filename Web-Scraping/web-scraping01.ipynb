{
 "cells": [
  {
   "cell_type": "markdown",
   "id": "5fc2cfa8",
   "metadata": {},
   "source": [
    "# Web scraping a tienda en linea"
   ]
  },
  {
   "cell_type": "code",
   "execution_count": 17,
   "id": "01012b60-391d-4bda-9189-96de17bc0890",
   "metadata": {},
   "outputs": [],
   "source": [
    "from selenium import webdriver\n",
    "from selenium.webdriver.common.by import By\n",
    "from selenium.common.exceptions import NoSuchElementException\n",
    "import pandas as pd\n",
    "import time"
   ]
  },
  {
   "cell_type": "code",
   "execution_count": 18,
   "id": "ac235639",
   "metadata": {},
   "outputs": [
    {
     "ename": "InvalidSelectorException",
     "evalue": "Message: invalid selector\nfrom javascript error: {\"status\":32,\"value\":\"An invalid or illegal selector was specified\"}\n  (Session info: chrome=130.0.6723.58); For documentation on this error, please visit: https://www.selenium.dev/documentation/webdriver/troubleshooting/errors#invalid-selector-exception\nStacktrace:\n\tGetHandleVerifier [0x00007FF7B4F6E1F5+2972373]\n\t(No symbol) [0x00007FF7B4C055F0]\n\t(No symbol) [0x00007FF7B4AA57FA]\n\t(No symbol) [0x00007FF7B4AAC2CC]\n\t(No symbol) [0x00007FF7B4AAE5E7]\n\t(No symbol) [0x00007FF7B4AAE6A0]\n\t(No symbol) [0x00007FF7B4AF54EA]\n\t(No symbol) [0x00007FF7B4AF5D2C]\n\t(No symbol) [0x00007FF7B4B3EAE7]\n\t(No symbol) [0x00007FF7B4B1BABF]\n\t(No symbol) [0x00007FF7B4B3B8CC]\n\t(No symbol) [0x00007FF7B4B1B823]\n\t(No symbol) [0x00007FF7B4AE75E8]\n\t(No symbol) [0x00007FF7B4AE8751]\n\tGetHandleVerifier [0x00007FF7B4F947BD+3129501]\n\tGetHandleVerifier [0x00007FF7B4FE4D00+3458528]\n\tGetHandleVerifier [0x00007FF7B4FDB05D+3418429]\n\tGetHandleVerifier [0x00007FF7B4D6687B+844123]\n\t(No symbol) [0x00007FF7B4C10AFF]\n\t(No symbol) [0x00007FF7B4C0C6D4]\n\t(No symbol) [0x00007FF7B4C0C86D]\n\t(No symbol) [0x00007FF7B4BFBD79]\n\tBaseThreadInitThunk [0x00007FFD1C53257D+29]\n\tRtlUserThreadStart [0x00007FFD1C86AF08+40]\n",
     "output_type": "error",
     "traceback": [
      "\u001b[1;31m---------------------------------------------------------------------------\u001b[0m",
      "\u001b[1;31mInvalidSelectorException\u001b[0m                  Traceback (most recent call last)",
      "Cell \u001b[1;32mIn[16], line 7\u001b[0m\n\u001b[0;32m      3\u001b[0m url \u001b[38;5;241m=\u001b[39m \u001b[38;5;124m'\u001b[39m\u001b[38;5;124mhttps://www.alkosto.com/search?text=pc\u001b[39m\u001b[38;5;124m'\u001b[39m\n\u001b[0;32m      5\u001b[0m driver\u001b[38;5;241m.\u001b[39mget(url)\n\u001b[1;32m----> 7\u001b[0m li_element \u001b[38;5;241m=\u001b[39m \u001b[43mdriver\u001b[49m\u001b[38;5;241;43m.\u001b[39;49m\u001b[43mfind_elements\u001b[49m\u001b[43m(\u001b[49m\u001b[43mBy\u001b[49m\u001b[38;5;241;43m.\u001b[39;49m\u001b[43mCLASS_NAME\u001b[49m\u001b[43m,\u001b[49m\u001b[38;5;124;43m'\u001b[39;49m\u001b[38;5;124;43m#product__item\u001b[39;49m\u001b[38;5;124;43m'\u001b[39;49m\u001b[43m)\u001b[49m\n\u001b[0;32m      9\u001b[0m data \u001b[38;5;241m=\u001b[39m []\n",
      "File \u001b[1;32mc:\\Users\\litio\\OneDrive\\Escritorio\\LLLIT\\Code-W11\\PY\\Data Science\\.env\\Lib\\site-packages\\selenium\\webdriver\\remote\\webdriver.py:778\u001b[0m, in \u001b[0;36mWebDriver.find_elements\u001b[1;34m(self, by, value)\u001b[0m\n\u001b[0;32m    774\u001b[0m     value \u001b[38;5;241m=\u001b[39m \u001b[38;5;124mf\u001b[39m\u001b[38;5;124m'\u001b[39m\u001b[38;5;124m[name=\u001b[39m\u001b[38;5;124m\"\u001b[39m\u001b[38;5;132;01m{\u001b[39;00mvalue\u001b[38;5;132;01m}\u001b[39;00m\u001b[38;5;124m\"\u001b[39m\u001b[38;5;124m]\u001b[39m\u001b[38;5;124m'\u001b[39m\n\u001b[0;32m    776\u001b[0m \u001b[38;5;66;03m# Return empty list if driver returns null\u001b[39;00m\n\u001b[0;32m    777\u001b[0m \u001b[38;5;66;03m# See https://github.com/SeleniumHQ/selenium/issues/4555\u001b[39;00m\n\u001b[1;32m--> 778\u001b[0m \u001b[38;5;28;01mreturn\u001b[39;00m \u001b[38;5;28;43mself\u001b[39;49m\u001b[38;5;241;43m.\u001b[39;49m\u001b[43mexecute\u001b[49m\u001b[43m(\u001b[49m\u001b[43mCommand\u001b[49m\u001b[38;5;241;43m.\u001b[39;49m\u001b[43mFIND_ELEMENTS\u001b[49m\u001b[43m,\u001b[49m\u001b[43m \u001b[49m\u001b[43m{\u001b[49m\u001b[38;5;124;43m\"\u001b[39;49m\u001b[38;5;124;43musing\u001b[39;49m\u001b[38;5;124;43m\"\u001b[39;49m\u001b[43m:\u001b[49m\u001b[43m \u001b[49m\u001b[43mby\u001b[49m\u001b[43m,\u001b[49m\u001b[43m \u001b[49m\u001b[38;5;124;43m\"\u001b[39;49m\u001b[38;5;124;43mvalue\u001b[39;49m\u001b[38;5;124;43m\"\u001b[39;49m\u001b[43m:\u001b[49m\u001b[43m \u001b[49m\u001b[43mvalue\u001b[49m\u001b[43m}\u001b[49m\u001b[43m)\u001b[49m[\u001b[38;5;124m\"\u001b[39m\u001b[38;5;124mvalue\u001b[39m\u001b[38;5;124m\"\u001b[39m] \u001b[38;5;129;01mor\u001b[39;00m []\n",
      "File \u001b[1;32mc:\\Users\\litio\\OneDrive\\Escritorio\\LLLIT\\Code-W11\\PY\\Data Science\\.env\\Lib\\site-packages\\selenium\\webdriver\\remote\\webdriver.py:354\u001b[0m, in \u001b[0;36mWebDriver.execute\u001b[1;34m(self, driver_command, params)\u001b[0m\n\u001b[0;32m    352\u001b[0m response \u001b[38;5;241m=\u001b[39m \u001b[38;5;28mself\u001b[39m\u001b[38;5;241m.\u001b[39mcommand_executor\u001b[38;5;241m.\u001b[39mexecute(driver_command, params)\n\u001b[0;32m    353\u001b[0m \u001b[38;5;28;01mif\u001b[39;00m response:\n\u001b[1;32m--> 354\u001b[0m     \u001b[38;5;28;43mself\u001b[39;49m\u001b[38;5;241;43m.\u001b[39;49m\u001b[43merror_handler\u001b[49m\u001b[38;5;241;43m.\u001b[39;49m\u001b[43mcheck_response\u001b[49m\u001b[43m(\u001b[49m\u001b[43mresponse\u001b[49m\u001b[43m)\u001b[49m\n\u001b[0;32m    355\u001b[0m     response[\u001b[38;5;124m\"\u001b[39m\u001b[38;5;124mvalue\u001b[39m\u001b[38;5;124m\"\u001b[39m] \u001b[38;5;241m=\u001b[39m \u001b[38;5;28mself\u001b[39m\u001b[38;5;241m.\u001b[39m_unwrap_value(response\u001b[38;5;241m.\u001b[39mget(\u001b[38;5;124m\"\u001b[39m\u001b[38;5;124mvalue\u001b[39m\u001b[38;5;124m\"\u001b[39m, \u001b[38;5;28;01mNone\u001b[39;00m))\n\u001b[0;32m    356\u001b[0m     \u001b[38;5;28;01mreturn\u001b[39;00m response\n",
      "File \u001b[1;32mc:\\Users\\litio\\OneDrive\\Escritorio\\LLLIT\\Code-W11\\PY\\Data Science\\.env\\Lib\\site-packages\\selenium\\webdriver\\remote\\errorhandler.py:229\u001b[0m, in \u001b[0;36mErrorHandler.check_response\u001b[1;34m(self, response)\u001b[0m\n\u001b[0;32m    227\u001b[0m         alert_text \u001b[38;5;241m=\u001b[39m value[\u001b[38;5;124m\"\u001b[39m\u001b[38;5;124malert\u001b[39m\u001b[38;5;124m\"\u001b[39m]\u001b[38;5;241m.\u001b[39mget(\u001b[38;5;124m\"\u001b[39m\u001b[38;5;124mtext\u001b[39m\u001b[38;5;124m\"\u001b[39m)\n\u001b[0;32m    228\u001b[0m     \u001b[38;5;28;01mraise\u001b[39;00m exception_class(message, screen, stacktrace, alert_text)  \u001b[38;5;66;03m# type: ignore[call-arg]  # mypy is not smart enough here\u001b[39;00m\n\u001b[1;32m--> 229\u001b[0m \u001b[38;5;28;01mraise\u001b[39;00m exception_class(message, screen, stacktrace)\n",
      "\u001b[1;31mInvalidSelectorException\u001b[0m: Message: invalid selector\nfrom javascript error: {\"status\":32,\"value\":\"An invalid or illegal selector was specified\"}\n  (Session info: chrome=130.0.6723.58); For documentation on this error, please visit: https://www.selenium.dev/documentation/webdriver/troubleshooting/errors#invalid-selector-exception\nStacktrace:\n\tGetHandleVerifier [0x00007FF7B4F6E1F5+2972373]\n\t(No symbol) [0x00007FF7B4C055F0]\n\t(No symbol) [0x00007FF7B4AA57FA]\n\t(No symbol) [0x00007FF7B4AAC2CC]\n\t(No symbol) [0x00007FF7B4AAE5E7]\n\t(No symbol) [0x00007FF7B4AAE6A0]\n\t(No symbol) [0x00007FF7B4AF54EA]\n\t(No symbol) [0x00007FF7B4AF5D2C]\n\t(No symbol) [0x00007FF7B4B3EAE7]\n\t(No symbol) [0x00007FF7B4B1BABF]\n\t(No symbol) [0x00007FF7B4B3B8CC]\n\t(No symbol) [0x00007FF7B4B1B823]\n\t(No symbol) [0x00007FF7B4AE75E8]\n\t(No symbol) [0x00007FF7B4AE8751]\n\tGetHandleVerifier [0x00007FF7B4F947BD+3129501]\n\tGetHandleVerifier [0x00007FF7B4FE4D00+3458528]\n\tGetHandleVerifier [0x00007FF7B4FDB05D+3418429]\n\tGetHandleVerifier [0x00007FF7B4D6687B+844123]\n\t(No symbol) [0x00007FF7B4C10AFF]\n\t(No symbol) [0x00007FF7B4C0C6D4]\n\t(No symbol) [0x00007FF7B4C0C86D]\n\t(No symbol) [0x00007FF7B4BFBD79]\n\tBaseThreadInitThunk [0x00007FFD1C53257D+29]\n\tRtlUserThreadStart [0x00007FFD1C86AF08+40]\n"
     ]
    }
   ],
   "source": [
    "driver = webdriver.Chrome()\n",
    "\n",
    "url = 'https://www.alkosto.com/search?text=pc'\n",
    "\n",
    "driver.get(url)\n",
    "\n"
   ]
  },
  {
   "cell_type": "markdown",
   "id": "3b89cd2a",
   "metadata": {},
   "source": [
    "#### Extracción "
   ]
  },
  {
   "cell_type": "code",
   "execution_count": 21,
   "id": "d3f2c8a2",
   "metadata": {},
   "outputs": [],
   "source": [
    "\n",
    "for element in li_element:\n",
    "    try:\n",
    "        precio_element = element.find_element(By.XPATH,'//span[@class=\"price\"]')\n",
    "        print(precio_element.text)\n",
    "        data.append({\n",
    "            \"Precio\": precio_element.text\n",
    "        })\n",
    "\n",
    "        \n",
    "    except NoSuchElementException:\n",
    "        pass\n",
    "    \n",
    "time.sleep(2)"
   ]
  },
  {
   "attachments": {
    "image.png": {
     "image/png": "[encoded data removed]"
    }
   },
   "cell_type": "markdown",
   "id": "58b39271",
   "metadata": {},
   "source": [
    "![image.png](attachment:image.png)"
   ]
  },
  {
   "cell_type": "code",
   "execution_count": null,
   "id": "891c3211",
   "metadata": {},
   "outputs": [
    {
     "data": {
      "text/plain": [
       "[]"
      ]
     },
     "execution_count": 19,
     "metadata": {},
     "output_type": "execute_result"
    }
   ],
   "source": [
    "data"
   ]
  },
  {
   "cell_type": "code",
   "execution_count": 12,
   "id": "1b9a435d",
   "metadata": {},
   "outputs": [
    {
     "data": {
      "text/html": [
       "<div>\n",
       "<style scoped>\n",
       "    .dataframe tbody tr th:only-of-type {\n",
       "        vertical-align: middle;\n",
       "    }\n",
       "\n",
       "    .dataframe tbody tr th {\n",
       "        vertical-align: top;\n",
       "    }\n",
       "\n",
       "    .dataframe thead th {\n",
       "        text-align: right;\n",
       "    }\n",
       "</style>\n",
       "<table border=\"1\" class=\"dataframe\">\n",
       "  <thead>\n",
       "    <tr style=\"text-align: right;\">\n",
       "      <th></th>\n",
       "    </tr>\n",
       "  </thead>\n",
       "  <tbody>\n",
       "  </tbody>\n",
       "</table>\n",
       "</div>"
      ],
      "text/plain": [
       "Empty DataFrame\n",
       "Columns: []\n",
       "Index: []"
      ]
     },
     "execution_count": 12,
     "metadata": {},
     "output_type": "execute_result"
    }
   ],
   "source": [
    "df = pd.DataFrame(data)\n",
    "df\n",
    "#df.to_csv(\"tecnologias_pc.csv\")"
   ]
  },
  {
   "cell_type": "code",
   "execution_count": 6,
   "id": "7ed28b2c",
   "metadata": {},
   "outputs": [],
   "source": []
  }
 ],
 "metadata": {
  "kernelspec": {
   "display_name": ".env",
   "language": "python",
   "name": "python3"
  },
  "language_info": {
   "codemirror_mode": {
    "name": "ipython",
    "version": 3
   },
   "file_extension": ".py",
   "mimetype": "text/x-python",
   "name": "python",
   "nbconvert_exporter": "python",
   "pygments_lexer": "ipython3",
   "version": "3.11.9"
  }
 },
 "nbformat": 4,
 "nbformat_minor": 5
}
